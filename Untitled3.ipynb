{
  "nbformat": 4,
  "nbformat_minor": 0,
  "metadata": {
    "colab": {
      "private_outputs": true,
      "provenance": []
    },
    "kernelspec": {
      "name": "python3",
      "display_name": "Python 3"
    },
    "language_info": {
      "name": "python"
    }
  },
  "cells": [
    {
      "cell_type": "code",
      "execution_count": null,
      "metadata": {
        "id": "yx9Q8DX3trks"
      },
      "outputs": [],
      "source": [
        "# =====================\n",
        "# Image Denoising dari Gambar yang Kita Upload (real noisy image)\n",
        "# =====================\n",
        "\n",
        "# 1. Install & Import Libraries\n",
        "!pip install -q scikit-image PyWavelets\n",
        "\n",
        "import numpy as np\n",
        "import matplotlib.pyplot as plt\n",
        "from skimage import img_as_float, img_as_ubyte, io, color\n",
        "from skimage.restoration import denoise_nl_means, estimate_sigma\n",
        "from google.colab import files\n",
        "from PIL import Image\n",
        "import io as io_lib\n",
        "\n",
        "# 2. Upload Gambar\n",
        "print(\"Silakan upload gambar noisy (JPG / PNG)...\")\n",
        "uploaded = files.upload()\n",
        "image_path = next(iter(uploaded))\n",
        "image = Image.open(io_lib.BytesIO(uploaded[image_path])).convert('RGB')\n",
        "image_np = img_as_float(np.array(image))  # Convert ke float (range [0,1])\n",
        "\n",
        "# 3. Ubah ke Grayscale (opsional, untuk denoising 1 channel)\n",
        "gray_image = color.rgb2gray(image_np)\n",
        "\n",
        "# 4. Estimasi sigma dari gambar yang sudah noisy\n",
        "sigma_est = np.mean(estimate_sigma(gray_image, channel_axis=None))\n",
        "\n",
        "# 5. Denoising dengan Non-Local Means\n",
        "denoised_image = denoise_nl_means(\n",
        "    gray_image,\n",
        "    h=1.15 * sigma_est,\n",
        "    fast_mode=True,\n",
        "    patch_size=5,\n",
        "    patch_distance=3,\n",
        "    channel_axis=None\n",
        ")\n",
        "\n",
        "# 6. Visualisasi Perbandingan\n",
        "def show_images(images, titles, cmap='gray'):\n",
        "    plt.figure(figsize=(15, 5))\n",
        "    for i, (img, title) in enumerate(zip(images, titles)):\n",
        "        plt.subplot(1, len(images), i + 1)\n",
        "        plt.imshow(img, cmap=cmap)\n",
        "        plt.title(title)\n",
        "        plt.axis('off')\n",
        "    plt.tight_layout()\n",
        "    plt.show()\n",
        "\n",
        "show_images(\n",
        "    [gray_image, denoised_image],\n",
        "    ['Original (Noisy)', 'Denoised']\n",
        ")\n",
        "\n",
        "# 7. Simpan hasil denoising\n",
        "denoised_uint8 = img_as_ubyte(denoised_image)\n",
        "io.imsave(\"denoised_output.png\", denoised_uint8)\n",
        "print(\"\\n✅ Gambar denoising telah disimpan sebagai 'denoised_output.png'\")\n"
      ]
    }
  ]
}